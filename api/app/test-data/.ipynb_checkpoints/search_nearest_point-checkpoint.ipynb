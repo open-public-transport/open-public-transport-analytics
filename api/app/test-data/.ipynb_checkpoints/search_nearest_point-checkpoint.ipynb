{
 "cells": [
  {
   "cell_type": "code",
   "execution_count": 1,
   "metadata": {},
   "outputs": [],
   "source": [
    "from shapely.geometry import Point, Polygon\n",
    "from shapely.ops import nearest_points\n",
    "import geopandas as gpd\n",
    "import json"
   ]
  },
  {
   "cell_type": "code",
   "execution_count": 2,
   "metadata": {},
   "outputs": [],
   "source": [
    "with open('test-snipped-berlin.json') as f:\n",
    "    data = json.load(f)\n",
    "#print(data)"
   ]
  },
  {
   "cell_type": "code",
   "execution_count": 3,
   "metadata": {},
   "outputs": [],
   "source": [
    "df_stations = gpd.read_file(\"stations-bus.geojson\")"
   ]
  },
  {
   "cell_type": "code",
   "execution_count": 4,
   "metadata": {},
   "outputs": [
    {
     "data": {
      "text/html": [
       "<div>\n",
       "<style scoped>\n",
       "    .dataframe tbody tr th:only-of-type {\n",
       "        vertical-align: middle;\n",
       "    }\n",
       "\n",
       "    .dataframe tbody tr th {\n",
       "        vertical-align: top;\n",
       "    }\n",
       "\n",
       "    .dataframe thead th {\n",
       "        text-align: right;\n",
       "    }\n",
       "</style>\n",
       "<table border=\"1\" class=\"dataframe\">\n",
       "  <thead>\n",
       "    <tr style=\"text-align: right;\">\n",
       "      <th></th>\n",
       "      <th>geometry</th>\n",
       "    </tr>\n",
       "  </thead>\n",
       "  <tbody>\n",
       "    <tr>\n",
       "      <th>0</th>\n",
       "      <td>POINT (13.33550 52.56521)</td>\n",
       "    </tr>\n",
       "    <tr>\n",
       "      <th>1</th>\n",
       "      <td>POINT (13.33641 52.56473)</td>\n",
       "    </tr>\n",
       "    <tr>\n",
       "      <th>2</th>\n",
       "      <td>POINT (13.33641 52.56564)</td>\n",
       "    </tr>\n",
       "    <tr>\n",
       "      <th>3</th>\n",
       "      <td>POINT (13.33756 52.56600)</td>\n",
       "    </tr>\n",
       "    <tr>\n",
       "      <th>4</th>\n",
       "      <td>POINT (13.33944 52.56631)</td>\n",
       "    </tr>\n",
       "    <tr>\n",
       "      <th>...</th>\n",
       "      <td>...</td>\n",
       "    </tr>\n",
       "    <tr>\n",
       "      <th>181217</th>\n",
       "      <td>POINT (13.57252 52.52806)</td>\n",
       "    </tr>\n",
       "    <tr>\n",
       "      <th>181218</th>\n",
       "      <td>POINT (13.57410 52.52716)</td>\n",
       "    </tr>\n",
       "    <tr>\n",
       "      <th>181219</th>\n",
       "      <td>POINT (13.57421 52.52725)</td>\n",
       "    </tr>\n",
       "    <tr>\n",
       "      <th>181220</th>\n",
       "      <td>POINT (13.10746 52.39883)</td>\n",
       "    </tr>\n",
       "    <tr>\n",
       "      <th>181221</th>\n",
       "      <td>POINT (13.11031 52.39626)</td>\n",
       "    </tr>\n",
       "  </tbody>\n",
       "</table>\n",
       "<p>181222 rows × 1 columns</p>\n",
       "</div>"
      ],
      "text/plain": [
       "                         geometry\n",
       "0       POINT (13.33550 52.56521)\n",
       "1       POINT (13.33641 52.56473)\n",
       "2       POINT (13.33641 52.56564)\n",
       "3       POINT (13.33756 52.56600)\n",
       "4       POINT (13.33944 52.56631)\n",
       "...                           ...\n",
       "181217  POINT (13.57252 52.52806)\n",
       "181218  POINT (13.57410 52.52716)\n",
       "181219  POINT (13.57421 52.52725)\n",
       "181220  POINT (13.10746 52.39883)\n",
       "181221  POINT (13.11031 52.39626)\n",
       "\n",
       "[181222 rows x 1 columns]"
      ]
     },
     "execution_count": 4,
     "metadata": {},
     "output_type": "execute_result"
    }
   ],
   "source": [
    "df_stations"
   ]
  },
  {
   "cell_type": "code",
   "execution_count": 5,
   "metadata": {},
   "outputs": [],
   "source": [
    "point_1 = Point(13.33550, 52.56520)\n",
    "#print(point_1)"
   ]
  },
  {
   "cell_type": "code",
   "execution_count": 18,
   "metadata": {},
   "outputs": [],
   "source": [
    "# create your circle buffer from one of the points\n",
    "distance = 0.0100\n",
    "circle_buffer = point_1.buffer(distance)\n",
    "\n"
   ]
  },
  {
   "cell_type": "code",
   "execution_count": 24,
   "metadata": {},
   "outputs": [
    {
     "name": "stdout",
     "output_type": "stream",
     "text": [
      "Wall time: 38 ms\n"
     ]
    }
   ],
   "source": [
    "%%time\n",
    "count = 0\n",
    "for geom in df_stations[0:10000].geometry:\n",
    "    #print(geom)\n",
    "    if geom.within(circle_buffer):\n",
    "        count = count + 1\n",
    "        #print('point 2 is within the distance buffer of point 1')\n",
    "        pass"
   ]
  },
  {
   "cell_type": "code",
   "execution_count": 25,
   "metadata": {},
   "outputs": [
    {
     "name": "stdout",
     "output_type": "stream",
     "text": [
      "Wall time: 36 ms\n"
     ]
    }
   ],
   "source": [
    "%%time\n",
    "count = 0\n",
    "for geom in df_stations[0:10000].geometry:\n",
    "    if circle_buffer.contains(geom):\n",
    "        count = count + 1\n",
    "        #print('circle buffer contains point 2')\n",
    "        pass\n",
    "print(count)"
   ]
  },
  {
   "cell_type": "code",
   "execution_count": 26,
   "metadata": {},
   "outputs": [
    {
     "name": "stdout",
     "output_type": "stream",
     "text": [
      "Wall time: 49 ms\n"
     ]
    }
   ],
   "source": [
    "%%time\n",
    "for geom in df_stations[0:10000].geometry:\n",
    "    if point_1.distance(geom) < distance:\n",
    "        count = count + 1\n",
    "        #print('point 1 is within the distance of point 2')\n",
    "        pass\n",
    "print(count)"
   ]
  },
  {
   "cell_type": "code",
   "execution_count": null,
   "metadata": {},
   "outputs": [],
   "source": [
    "df_stations"
   ]
  },
  {
   "cell_type": "code",
   "execution_count": null,
   "metadata": {},
   "outputs": [],
   "source": [
    "# and you can then check if the other point lies within\n",
    "if geom.within(circle_buffer):\n",
    "    print('point 2 is within the distance buffer of point 1')\n",
    "# or similarly\n",
    "if circle_buffer.contains(point_2):\n",
    "    print('circle buffer contains point 2')\n",
    "\n",
    "# but a simpler method is to simply check the distance\n",
    "if point_1.distance(point_2) < distance:\n",
    "    print('point 1 is within the distance of point 2')"
   ]
  }
 ],
 "metadata": {
  "kernelspec": {
   "display_name": "Python 3",
   "language": "python",
   "name": "python3"
  },
  "language_info": {
   "codemirror_mode": {
    "name": "ipython",
    "version": 3
   },
   "file_extension": ".py",
   "mimetype": "text/x-python",
   "name": "python",
   "nbconvert_exporter": "python",
   "pygments_lexer": "ipython3",
   "version": "3.8.5"
  }
 },
 "nbformat": 4,
 "nbformat_minor": 4
}
