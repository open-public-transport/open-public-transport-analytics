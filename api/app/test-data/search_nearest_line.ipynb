{
 "cells": [
  {
   "cell_type": "code",
   "execution_count": 2,
   "metadata": {},
   "outputs": [],
   "source": [
    "from shapely.geometry import Point, Polygon, LineString\n",
    "from shapely.ops import nearest_points\n",
    "import geopandas as gpd\n",
    "import json"
   ]
  },
  {
   "cell_type": "code",
   "execution_count": 3,
   "metadata": {},
   "outputs": [],
   "source": [
    "with open('test-snipped-berlin.json') as f:\n",
    "    data = json.load(f)\n",
    "#print(data)"
   ]
  },
  {
   "cell_type": "code",
   "execution_count": 6,
   "metadata": {},
   "outputs": [],
   "source": [
    "df_lines = gpd.read_file(\"lines-bus.geojson\")"
   ]
  },
  {
   "cell_type": "code",
   "execution_count": 7,
   "metadata": {},
   "outputs": [
    {
     "data": {
      "text/html": [
       "<div>\n",
       "<style scoped>\n",
       "    .dataframe tbody tr th:only-of-type {\n",
       "        vertical-align: middle;\n",
       "    }\n",
       "\n",
       "    .dataframe tbody tr th {\n",
       "        vertical-align: top;\n",
       "    }\n",
       "\n",
       "    .dataframe thead th {\n",
       "        text-align: right;\n",
       "    }\n",
       "</style>\n",
       "<table border=\"1\" class=\"dataframe\">\n",
       "  <thead>\n",
       "    <tr style=\"text-align: right;\">\n",
       "      <th></th>\n",
       "      <th>geometry</th>\n",
       "    </tr>\n",
       "  </thead>\n",
       "  <tbody>\n",
       "    <tr>\n",
       "      <th>0</th>\n",
       "      <td>LINESTRING (13.33550 52.56521, 13.33560 52.56514)</td>\n",
       "    </tr>\n",
       "    <tr>\n",
       "      <th>1</th>\n",
       "      <td>LINESTRING (13.33550 52.56521, 13.33565 52.56529)</td>\n",
       "    </tr>\n",
       "    <tr>\n",
       "      <th>2</th>\n",
       "      <td>LINESTRING (13.33550 52.56521, 13.33533 52.56512)</td>\n",
       "    </tr>\n",
       "    <tr>\n",
       "      <th>3</th>\n",
       "      <td>LINESTRING (13.33641 52.56473, 13.33688 52.56462)</td>\n",
       "    </tr>\n",
       "    <tr>\n",
       "      <th>4</th>\n",
       "      <td>LINESTRING (13.33641 52.56473, 13.33634 52.56475)</td>\n",
       "    </tr>\n",
       "    <tr>\n",
       "      <th>...</th>\n",
       "      <td>...</td>\n",
       "    </tr>\n",
       "    <tr>\n",
       "      <th>345209</th>\n",
       "      <td>LINESTRING (13.57421 52.52725, 13.57404 52.52733)</td>\n",
       "    </tr>\n",
       "    <tr>\n",
       "      <th>345210</th>\n",
       "      <td>LINESTRING (13.10746 52.39883, 13.10694 52.39798)</td>\n",
       "    </tr>\n",
       "    <tr>\n",
       "      <th>345211</th>\n",
       "      <td>LINESTRING (13.10746 52.39883, 13.10759 52.39914)</td>\n",
       "    </tr>\n",
       "    <tr>\n",
       "      <th>345212</th>\n",
       "      <td>LINESTRING (13.11031 52.39626, 13.11137 52.39627)</td>\n",
       "    </tr>\n",
       "    <tr>\n",
       "      <th>345213</th>\n",
       "      <td>LINESTRING (13.11031 52.39626, 13.10843 52.39621)</td>\n",
       "    </tr>\n",
       "  </tbody>\n",
       "</table>\n",
       "<p>345214 rows × 1 columns</p>\n",
       "</div>"
      ],
      "text/plain": [
       "                                                 geometry\n",
       "0       LINESTRING (13.33550 52.56521, 13.33560 52.56514)\n",
       "1       LINESTRING (13.33550 52.56521, 13.33565 52.56529)\n",
       "2       LINESTRING (13.33550 52.56521, 13.33533 52.56512)\n",
       "3       LINESTRING (13.33641 52.56473, 13.33688 52.56462)\n",
       "4       LINESTRING (13.33641 52.56473, 13.33634 52.56475)\n",
       "...                                                   ...\n",
       "345209  LINESTRING (13.57421 52.52725, 13.57404 52.52733)\n",
       "345210  LINESTRING (13.10746 52.39883, 13.10694 52.39798)\n",
       "345211  LINESTRING (13.10746 52.39883, 13.10759 52.39914)\n",
       "345212  LINESTRING (13.11031 52.39626, 13.11137 52.39627)\n",
       "345213  LINESTRING (13.11031 52.39626, 13.10843 52.39621)\n",
       "\n",
       "[345214 rows x 1 columns]"
      ]
     },
     "execution_count": 7,
     "metadata": {},
     "output_type": "execute_result"
    }
   ],
   "source": [
    "df_lines"
   ]
  },
  {
   "cell_type": "code",
   "execution_count": 34,
   "metadata": {},
   "outputs": [],
   "source": [
    "point = Point(13.33550, 52.56521)\n",
    "#print(point_1)"
   ]
  },
  {
   "cell_type": "code",
   "execution_count": 47,
   "metadata": {},
   "outputs": [],
   "source": [
    "# create your circle buffer from one of the points\n",
    "# distance 1 = 1 kilometer\n",
    "#distance = 0.00001\n",
    "\n",
    "# 10 Meter\n",
    "#distance = 0.0001\n",
    "# 100 Meter\n",
    "#distance = 0.001\n",
    "\n",
    "# 1000 Meter\n",
    "#distance = 0.01\n",
    "distance = 0.02\n",
    "\n",
    "# 10000 Meter\n",
    "#distance = 0.1\n",
    "\n",
    "# 100000 Meter\n",
    "#distance = 1.0\n",
    "\n",
    "circle_buffer = point.buffer(distance)\n",
    "\n"
   ]
  },
  {
   "cell_type": "code",
   "execution_count": 48,
   "metadata": {},
   "outputs": [],
   "source": [
    "line = df_lines.geometry[0]"
   ]
  },
  {
   "cell_type": "code",
   "execution_count": 49,
   "metadata": {},
   "outputs": [
    {
     "data": {
      "image/svg+xml": [
       "<svg xmlns=\"http://www.w3.org/2000/svg\" xmlns:xlink=\"http://www.w3.org/1999/xlink\" width=\"100.0\" height=\"100.0\" viewBox=\"13.3354976 52.565131199999996 0.00010529999999953077 7.820000000435812e-05\" preserveAspectRatio=\"xMinYMin meet\"><g transform=\"matrix(1,0,0,-1,0,105.1303406)\"><polyline fill=\"none\" stroke=\"#66cc99\" stroke-width=\"2.1059999999906155e-06\" points=\"13.3355015,52.5652055 13.335599,52.5651351\" opacity=\"0.8\" /></g></svg>"
      ],
      "text/plain": [
       "<shapely.geometry.linestring.LineString at 0x218c167b640>"
      ]
     },
     "execution_count": 49,
     "metadata": {},
     "output_type": "execute_result"
    }
   ],
   "source": [
    "line"
   ]
  },
  {
   "cell_type": "code",
   "execution_count": 50,
   "metadata": {},
   "outputs": [
    {
     "data": {
      "text/plain": [
       "False"
      ]
     },
     "execution_count": 50,
     "metadata": {},
     "output_type": "execute_result"
    }
   ],
   "source": [
    "line.within(point)  # False"
   ]
  },
  {
   "cell_type": "code",
   "execution_count": 51,
   "metadata": {},
   "outputs": [
    {
     "data": {
      "text/plain": [
       "4.743416492881661e-06"
      ]
     },
     "execution_count": 51,
     "metadata": {},
     "output_type": "execute_result"
    }
   ],
   "source": [
    "line.distance(point)  # 7.765244949417793e-11"
   ]
  },
  {
   "cell_type": "code",
   "execution_count": 52,
   "metadata": {},
   "outputs": [
    {
     "data": {
      "text/plain": [
       "True"
      ]
     },
     "execution_count": 52,
     "metadata": {},
     "output_type": "execute_result"
    }
   ],
   "source": [
    "line.distance(point) < 0.02  # True"
   ]
  },
  {
   "cell_type": "code",
   "execution_count": null,
   "metadata": {},
   "outputs": [],
   "source": []
  },
  {
   "cell_type": "code",
   "execution_count": null,
   "metadata": {},
   "outputs": [],
   "source": []
  },
  {
   "cell_type": "code",
   "execution_count": 53,
   "metadata": {},
   "outputs": [
    {
     "name": "stdout",
     "output_type": "stream",
     "text": [
      "3813\n",
      "Wall time: 1.09 s\n"
     ]
    }
   ],
   "source": [
    "%%time\n",
    "count = 0\n",
    "for geom in df_lines.geometry:\n",
    "    #print(geom)\n",
    "    if geom.within(circle_buffer):\n",
    "        count = count + 1\n",
    "        #print('point 2 is within the distance buffer of point 1')\n",
    "        pass\n",
    "print(count)"
   ]
  },
  {
   "cell_type": "code",
   "execution_count": 54,
   "metadata": {},
   "outputs": [
    {
     "name": "stdout",
     "output_type": "stream",
     "text": [
      "3813\n",
      "Wall time: 1.13 s\n"
     ]
    }
   ],
   "source": [
    "%%time\n",
    "count = 0\n",
    "for geom in df_lines.geometry:\n",
    "    if circle_buffer.contains(geom):\n",
    "        count = count + 1\n",
    "        #print('circle buffer contains point 2')\n",
    "        pass\n",
    "print(count)"
   ]
  },
  {
   "cell_type": "code",
   "execution_count": 55,
   "metadata": {},
   "outputs": [
    {
     "name": "stdout",
     "output_type": "stream",
     "text": [
      "3898\n",
      "Wall time: 1.31 s\n"
     ]
    }
   ],
   "source": [
    "%%time\n",
    "count = 0\n",
    "for geom in df_lines.geometry:\n",
    "    if point.distance(geom) < distance:\n",
    "        count = count + 1\n",
    "        #print(geom)\n",
    "        #print(point.distance(geom))\n",
    "        #print('point 1 is within the distance of point 2')\n",
    "        pass\n",
    "print(count)"
   ]
  },
  {
   "cell_type": "code",
   "execution_count": 46,
   "metadata": {},
   "outputs": [
    {
     "data": {
      "text/html": [
       "<div>\n",
       "<style scoped>\n",
       "    .dataframe tbody tr th:only-of-type {\n",
       "        vertical-align: middle;\n",
       "    }\n",
       "\n",
       "    .dataframe tbody tr th {\n",
       "        vertical-align: top;\n",
       "    }\n",
       "\n",
       "    .dataframe thead th {\n",
       "        text-align: right;\n",
       "    }\n",
       "</style>\n",
       "<table border=\"1\" class=\"dataframe\">\n",
       "  <thead>\n",
       "    <tr style=\"text-align: right;\">\n",
       "      <th></th>\n",
       "      <th>geometry</th>\n",
       "    </tr>\n",
       "  </thead>\n",
       "  <tbody>\n",
       "    <tr>\n",
       "      <th>0</th>\n",
       "      <td>LINESTRING (13.33550 52.56521, 13.33560 52.56514)</td>\n",
       "    </tr>\n",
       "    <tr>\n",
       "      <th>1</th>\n",
       "      <td>LINESTRING (13.33550 52.56521, 13.33565 52.56529)</td>\n",
       "    </tr>\n",
       "    <tr>\n",
       "      <th>2</th>\n",
       "      <td>LINESTRING (13.33550 52.56521, 13.33533 52.56512)</td>\n",
       "    </tr>\n",
       "    <tr>\n",
       "      <th>3</th>\n",
       "      <td>LINESTRING (13.33641 52.56473, 13.33688 52.56462)</td>\n",
       "    </tr>\n",
       "    <tr>\n",
       "      <th>4</th>\n",
       "      <td>LINESTRING (13.33641 52.56473, 13.33634 52.56475)</td>\n",
       "    </tr>\n",
       "    <tr>\n",
       "      <th>...</th>\n",
       "      <td>...</td>\n",
       "    </tr>\n",
       "    <tr>\n",
       "      <th>345209</th>\n",
       "      <td>LINESTRING (13.57421 52.52725, 13.57404 52.52733)</td>\n",
       "    </tr>\n",
       "    <tr>\n",
       "      <th>345210</th>\n",
       "      <td>LINESTRING (13.10746 52.39883, 13.10694 52.39798)</td>\n",
       "    </tr>\n",
       "    <tr>\n",
       "      <th>345211</th>\n",
       "      <td>LINESTRING (13.10746 52.39883, 13.10759 52.39914)</td>\n",
       "    </tr>\n",
       "    <tr>\n",
       "      <th>345212</th>\n",
       "      <td>LINESTRING (13.11031 52.39626, 13.11137 52.39627)</td>\n",
       "    </tr>\n",
       "    <tr>\n",
       "      <th>345213</th>\n",
       "      <td>LINESTRING (13.11031 52.39626, 13.10843 52.39621)</td>\n",
       "    </tr>\n",
       "  </tbody>\n",
       "</table>\n",
       "<p>345214 rows × 1 columns</p>\n",
       "</div>"
      ],
      "text/plain": [
       "                                                 geometry\n",
       "0       LINESTRING (13.33550 52.56521, 13.33560 52.56514)\n",
       "1       LINESTRING (13.33550 52.56521, 13.33565 52.56529)\n",
       "2       LINESTRING (13.33550 52.56521, 13.33533 52.56512)\n",
       "3       LINESTRING (13.33641 52.56473, 13.33688 52.56462)\n",
       "4       LINESTRING (13.33641 52.56473, 13.33634 52.56475)\n",
       "...                                                   ...\n",
       "345209  LINESTRING (13.57421 52.52725, 13.57404 52.52733)\n",
       "345210  LINESTRING (13.10746 52.39883, 13.10694 52.39798)\n",
       "345211  LINESTRING (13.10746 52.39883, 13.10759 52.39914)\n",
       "345212  LINESTRING (13.11031 52.39626, 13.11137 52.39627)\n",
       "345213  LINESTRING (13.11031 52.39626, 13.10843 52.39621)\n",
       "\n",
       "[345214 rows x 1 columns]"
      ]
     },
     "execution_count": 46,
     "metadata": {},
     "output_type": "execute_result"
    }
   ],
   "source": [
    "df_stations"
   ]
  },
  {
   "cell_type": "code",
   "execution_count": null,
   "metadata": {},
   "outputs": [],
   "source": []
  }
 ],
 "metadata": {
  "kernelspec": {
   "display_name": "Python 3",
   "language": "python",
   "name": "python3"
  },
  "language_info": {
   "codemirror_mode": {
    "name": "ipython",
    "version": 3
   },
   "file_extension": ".py",
   "mimetype": "text/x-python",
   "name": "python",
   "nbconvert_exporter": "python",
   "pygments_lexer": "ipython3",
   "version": "3.8.5"
  }
 },
 "nbformat": 4,
 "nbformat_minor": 4
}
